{
 "cells": [
  {
   "cell_type": "code",
   "execution_count": 4,
   "id": "6d45b74f",
   "metadata": {},
   "outputs": [
    {
     "name": "stdout",
     "output_type": "stream",
     "text": [
      "✅ 去重前 127 个，去重后 127 个 → data/processed/manual_chunks_test.jsonl\n"
     ]
    }
   ],
   "source": [
    "import json\n",
    "import hashlib\n",
    "from pathlib import Path\n",
    "from webagent.framework.ingestion.loaders import load_pdf\n",
    "from webagent.framework.ingestion.cleaners import basic_clean\n",
    "from webagent.framework.ingestion.chunker import chunk_text\n",
    "\n",
    "# ========= 配置 =========\n",
    "pdf_path = Path(\"/Users/juntao/Desktop/SJTU/ptjob/WebAIAgent-202508-withYubo/STIMULIZE-WebAgent/files/STIMULIZE_UserManual_08042025.pdf\")\n",
    "out_path = Path(\"data/processed/manual_chunks_test.jsonl\")\n",
    "chunk_size = 800\n",
    "overlap = 150\n",
    "ocr_images = True\n",
    "ocr_lang = \"eng+chi_sim\"\n",
    "# =======================\n",
    "\n",
    "out_path.parent.mkdir(parents=True, exist_ok=True)\n",
    "\n",
    "def _hash_id(text: str, source: str, page: int, ctype: str, idx: int) -> str:\n",
    "    h = hashlib.sha1()\n",
    "    h.update(text.encode(\"utf-8\"))\n",
    "    h.update(f\"|{source}|{page}|{ctype}|{idx}\".encode(\"utf-8\"))\n",
    "    return h.hexdigest()[:16]\n",
    "\n",
    "def _dedup(chunks):\n",
    "    seen = set()\n",
    "    out = []\n",
    "    for c in chunks:\n",
    "        key = hashlib.md5(c[\"text\"].encode(\"utf-8\")).hexdigest()\n",
    "        if key in seen:\n",
    "            continue\n",
    "        seen.add(key)\n",
    "        out.append(c)\n",
    "    return out\n",
    "\n",
    "# 加载 PDF\n",
    "data = load_pdf(str(pdf_path), ocr_images=ocr_images, ocr_lang=ocr_lang)\n",
    "\n",
    "all_chunks = []\n",
    "\n",
    "# 文本页\n",
    "for p in data.get(\"text_pages\", []):\n",
    "    clean = basic_clean(p.text)\n",
    "    if not clean:\n",
    "        continue\n",
    "    pieces = chunk_text(clean, size=chunk_size, overlap=overlap)\n",
    "    for i, ch in enumerate(pieces, 1):\n",
    "        all_chunks.append({\n",
    "            \"id\": _hash_id(ch, pdf_path.name, p.page, \"text\", i),\n",
    "            \"text\": ch,\n",
    "            \"metadata\": {\"source\": pdf_path.name, \"page\": p.page, \"type\": \"text\"},\n",
    "        })\n",
    "\n",
    "# 图片 OCR\n",
    "for im in data.get(\"image_ocr\", []):\n",
    "    clean = basic_clean(im.ocr_text)\n",
    "    if not clean:\n",
    "        continue\n",
    "    pieces = chunk_text(clean, size=chunk_size, overlap=overlap)\n",
    "    for i, ch in enumerate(pieces, 1):\n",
    "        all_chunks.append({\n",
    "            \"id\": _hash_id(ch, pdf_path.name, im.page, \"image_ocr\", i),\n",
    "            \"text\": ch,\n",
    "            \"metadata\": {\"source\": pdf_path.name, \"page\": im.page, \"type\": \"image_ocr\"},\n",
    "        })\n",
    "\n",
    "before = len(all_chunks)\n",
    "all_chunks = _dedup(all_chunks)\n",
    "after = len(all_chunks)\n",
    "\n",
    "with out_path.open(\"w\", encoding=\"utf-8\") as f:\n",
    "    for ch in all_chunks:\n",
    "        f.write(json.dumps(ch, ensure_ascii=False) + \"\\n\")\n",
    "\n",
    "print(f\"✅ 去重前 {before} 个，去重后 {after} 个 → {out_path}\")\n"
   ]
  },
  {
   "cell_type": "code",
   "execution_count": null,
   "id": "9e61092f",
   "metadata": {},
   "outputs": [],
   "source": []
  }
 ],
 "metadata": {
  "kernelspec": {
   "display_name": "webagent",
   "language": "python",
   "name": "python3"
  },
  "language_info": {
   "codemirror_mode": {
    "name": "ipython",
    "version": 3
   },
   "file_extension": ".py",
   "mimetype": "text/x-python",
   "name": "python",
   "nbconvert_exporter": "python",
   "pygments_lexer": "ipython3",
   "version": "3.10.18"
  }
 },
 "nbformat": 4,
 "nbformat_minor": 5
}
